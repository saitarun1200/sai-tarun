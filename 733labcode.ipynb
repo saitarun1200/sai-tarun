{
 "cells": [
  {
   "cell_type": "code",
   "execution_count": 10,
   "id": "541ee9d3-d25d-48e5-aee0-174abd3e8544",
   "metadata": {},
   "outputs": [
    {
     "name": "stderr",
     "output_type": "stream",
     "text": [
      "[nltk_data] Downloading package punkt to\n",
      "[nltk_data]     C:\\Users\\saita\\AppData\\Roaming\\nltk_data...\n",
      "[nltk_data]   Package punkt is already up-to-date!\n",
      "[nltk_data] Downloading package stopwords to\n",
      "[nltk_data]     C:\\Users\\saita\\AppData\\Roaming\\nltk_data...\n",
      "[nltk_data]   Package stopwords is already up-to-date!\n",
      "[nltk_data] Downloading package wordnet to\n",
      "[nltk_data]     C:\\Users\\saita\\AppData\\Roaming\\nltk_data...\n",
      "[nltk_data]   Package wordnet is already up-to-date!\n"
     ]
    },
    {
     "data": {
      "text/plain": [
       "True"
      ]
     },
     "execution_count": 10,
     "metadata": {},
     "output_type": "execute_result"
    }
   ],
   "source": [
    "import pandas as pd\n",
    "import numpy as np\n",
    "import string\n",
    "import re\n",
    "from sklearn.feature_extraction.text import TfidfVectorizer\n",
    "from sklearn.model_selection import StratifiedKFold, LeaveOneGroupOut, cross_val_score\n",
    "from sklearn.linear_model import LogisticRegression\n",
    "from sklearn.svm import SVC\n",
    "from sklearn.naive_bayes import MultinomialNB\n",
    "from sklearn.ensemble import RandomForestClassifier\n",
    "from sklearn.metrics import accuracy_score\n",
    "\n",
    "from nltk.corpus import stopwords\n",
    "from nltk.stem import WordNetLemmatizer\n",
    "from nltk.tokenize import word_tokenize\n",
    "\n",
    "import nltk\n",
    "nltk.download('punkt')\n",
    "nltk.download('stopwords')\n",
    "nltk.download('wordnet')\n"
   ]
  },
  {
   "cell_type": "code",
   "execution_count": 11,
   "id": "409453e5-3901-48ae-9a28-07bbba059264",
   "metadata": {},
   "outputs": [],
   "source": [
    "# Load dataset\n",
    "df = pd.read_csv(\"data_stories_one_shot.csv\")  # Adjust path if needed\n"
   ]
  },
  {
   "cell_type": "code",
   "execution_count": 13,
   "id": "6edbf72e-52db-487a-bce8-ab4500818211",
   "metadata": {},
   "outputs": [],
   "source": [
    "from nltk.tokenize import TreebankWordTokenizer\n",
    "tokenizer = TreebankWordTokenizer()\n",
    "\n",
    "def preprocess(text):\n",
    "    lemmatizer = WordNetLemmatizer()\n",
    "    stop_words = set(stopwords.words('english'))\n",
    "    \n",
    "    text = text.lower()\n",
    "    text = text.translate(str.maketrans('', '', string.punctuation))\n",
    "    \n",
    "    tokens = tokenizer.tokenize(text)  # Use Treebank tokenizer instead of word_tokenize\n",
    "    tokens = [lemmatizer.lemmatize(w) for w in tokens if w not in stop_words]\n",
    "    \n",
    "    return ' '.join(tokens)"
   ]
  },
  {
   "cell_type": "code",
   "execution_count": 14,
   "id": "8b561c51-d041-4c96-a01e-199cfe10d888",
   "metadata": {},
   "outputs": [],
   "source": [
    "# Apply preprocessing\n",
    "df['Processed'] = df['Sentence'].apply(preprocess)\n",
    "\n",
    "# Vectorize\n",
    "vectorizer = TfidfVectorizer()\n",
    "X = vectorizer.fit_transform(df['Processed'])\n",
    "y = df['Stage']\n",
    "groups = df['Plot_Name']\n"
   ]
  },
  {
   "cell_type": "code",
   "execution_count": 15,
   "id": "9df97453-1dfd-46ed-9903-0f482b024ed6",
   "metadata": {},
   "outputs": [],
   "source": [
    "# Define models\n",
    "models = {\n",
    "    'Logistic Regression': LogisticRegression(max_iter=1000),\n",
    "    'SVM': SVC(kernel='linear'),\n",
    "    'Naive Bayes': MultinomialNB(),\n",
    "    'Random Forest': RandomForestClassifier(n_estimators=100, random_state=42)\n",
    "}"
   ]
  },
  {
   "cell_type": "code",
   "execution_count": 16,
   "id": "b904330b-9595-425e-b3e9-592811963ba3",
   "metadata": {},
   "outputs": [
    {
     "name": "stderr",
     "output_type": "stream",
     "text": [
      "C:\\Users\\saita\\AppData\\Local\\Packages\\PythonSoftwareFoundation.Python.3.11_qbz5n2kfra8p0\\LocalCache\\local-packages\\Python311\\site-packages\\sklearn\\model_selection\\_split.py:805: UserWarning: The least populated class in y has only 3 members, which is less than n_splits=5.\n",
      "  warnings.warn(\n",
      "C:\\Users\\saita\\AppData\\Local\\Packages\\PythonSoftwareFoundation.Python.3.11_qbz5n2kfra8p0\\LocalCache\\local-packages\\Python311\\site-packages\\sklearn\\model_selection\\_split.py:805: UserWarning: The least populated class in y has only 3 members, which is less than n_splits=5.\n",
      "  warnings.warn(\n",
      "C:\\Users\\saita\\AppData\\Local\\Packages\\PythonSoftwareFoundation.Python.3.11_qbz5n2kfra8p0\\LocalCache\\local-packages\\Python311\\site-packages\\sklearn\\model_selection\\_split.py:805: UserWarning: The least populated class in y has only 3 members, which is less than n_splits=5.\n",
      "  warnings.warn(\n",
      "C:\\Users\\saita\\AppData\\Local\\Packages\\PythonSoftwareFoundation.Python.3.11_qbz5n2kfra8p0\\LocalCache\\local-packages\\Python311\\site-packages\\sklearn\\model_selection\\_split.py:805: UserWarning: The least populated class in y has only 3 members, which is less than n_splits=5.\n",
      "  warnings.warn(\n"
     ]
    },
    {
     "name": "stdout",
     "output_type": "stream",
     "text": [
      "                 Model  Zero-Shot CV Accuracy  \\\n",
      "0  Logistic Regression                  0.738   \n",
      "1                  SVM                  0.769   \n",
      "2          Naive Bayes                  0.762   \n",
      "3        Random Forest                  0.715   \n",
      "\n",
      "   Zero-Shot Leave-One-Plot-Out Accuracy  \n",
      "0                                  0.672  \n",
      "1                                  0.758  \n",
      "2                                  0.750  \n",
      "3                                  0.662  \n"
     ]
    }
   ],
   "source": [
    "# Store results\n",
    "results = {\n",
    "    'Model': [],\n",
    "    'Zero-Shot CV Accuracy': [],\n",
    "    'Zero-Shot Leave-One-Plot-Out Accuracy': []\n",
    "}\n",
    "\n",
    "# Stratified Cross-Validation\n",
    "cv = StratifiedKFold(n_splits=5, shuffle=True, random_state=42)\n",
    "\n",
    "# Evaluate each model\n",
    "for name, model in models.items():\n",
    "    # CV accuracy\n",
    "    cv_scores = cross_val_score(model, X, y, cv=cv)\n",
    "    \n",
    "    # Leave-One-Plot-Out accuracy\n",
    "    logo = LeaveOneGroupOut()\n",
    "    logo_scores = []\n",
    "    for train_idx, test_idx in logo.split(X, y, groups):\n",
    "        model.fit(X[train_idx], y[train_idx])\n",
    "        preds = model.predict(X[test_idx])\n",
    "        logo_scores.append(accuracy_score(y[test_idx], preds))\n",
    "    \n",
    "    # Record results\n",
    "    results['Model'].append(name)\n",
    "    results['Zero-Shot CV Accuracy'].append(np.mean(cv_scores))\n",
    "    results['Zero-Shot Leave-One-Plot-Out Accuracy'].append(np.mean(logo_scores))\n",
    "\n",
    "# Results table\n",
    "results_df = pd.DataFrame(results)\n",
    "print(results_df.round(3))\n"
   ]
  }
 ],
 "metadata": {
  "kernelspec": {
   "display_name": "Python 3",
   "language": "python",
   "name": "python3"
  },
  "language_info": {
   "codemirror_mode": {
    "name": "ipython",
    "version": 3
   },
   "file_extension": ".py",
   "mimetype": "text/x-python",
   "name": "python",
   "nbconvert_exporter": "python",
   "pygments_lexer": "ipython3",
   "version": "3.11.9"
  }
 },
 "nbformat": 4,
 "nbformat_minor": 5
}
